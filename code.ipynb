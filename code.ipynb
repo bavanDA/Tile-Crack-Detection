{
  "nbformat": 4,
  "nbformat_minor": 0,
  "metadata": {
    "colab": {
      "provenance": []
    },
    "kernelspec": {
      "name": "python3",
      "display_name": "Python 3"
    },
    "language_info": {
      "name": "python"
    }
  },
  "cells": [
    {
      "cell_type": "code",
      "source": [
        "import cv2\n",
        "import numpy as np\n",
        "from matplotlib import pyplot as plt\n",
        "import tensorflow as tf\n",
        "import json\n",
        "import glob\n",
        "import os\n",
        "from google.colab.patches import cv2_imshow\n",
        "from skimage.exposure import match_histograms\n",
        "from skimage.metrics import structural_similarity as compare_ssim\n",
        "import argparse\n",
        "import imutils\n",
        "from tensorflow import keras\n",
        "from tensorflow.keras import layers\n",
        "import keras.backend as k\n",
        "from sklearn.model_selection import train_test_split\n",
        "from PIL import Image, ImageOps"
      ],
      "metadata": {
        "id": "GMQIqcL8j0ek"
      },
      "execution_count": 3,
      "outputs": []
    },
    {
      "cell_type": "code",
      "source": [
        "!unzip /content/drive/MyDrive/CV/Dataset.zip -d Dataset\n",
        "!unzip /content/drive/MyDrive/CV/Patterns.zip -d Patterns"
      ],
      "metadata": {
        "colab": {
          "base_uri": "https://localhost:8080/"
        },
        "id": "61V2tKmwmdOr",
        "outputId": "e12c57d3-0f2b-4876-9376-9f3a0774fef7"
      },
      "execution_count": null,
      "outputs": [
        {
          "output_type": "stream",
          "name": "stdout",
          "text": [
            "Archive:  /content/drive/MyDrive/CV/Dataset.zip\n",
            "replace Dataset/1644359422.816138.jpg? [y]es, [n]o, [A]ll, [N]one, [r]ename: "
          ]
        }
      ]
    },
    {
      "cell_type": "code",
      "source": [
        "def perspective(img, img_pattern):\n",
        "  gray_img = cv2.cvtColor(img, cv2.COLOR_BGR2GRAY)\n",
        "  gray_img_pattern = cv2.cvtColor(img_pattern, cv2.COLOR_BGR2GRAY)\n",
        "  detect = cv2.ORB_create()\n",
        "  key_pt1,desc1 = detect.detectAndCompute(gray_img,None)\n",
        "  key_pt2,desc2 = detect.detectAndCompute(gray_img_pattern,None)\n",
        "  if type(desc1)!=type(None) and type(desc2)!=type(None) and desc1.shape[1] == desc2.shape[1]:\n",
        "    brute_force = cv2.BFMatcher(cv2.NORM_HAMMING,crossCheck=True)\n",
        "    no_of_matches = brute_force.match(desc1,desc2)\n",
        "    \n",
        "    matches = sorted(no_of_matches,key=lambda x:x.distance)  \n",
        "      \n",
        "    list_kp1 = np.float32([[int(key_pt1[mat.queryIdx].pt[0]), int(key_pt1[mat.queryIdx].pt[1])] for mat in matches]) \n",
        "    list_kp2 = np.float32([[int(key_pt2[mat.trainIdx].pt[0]), int(key_pt2[mat.trainIdx].pt[1])] for mat in matches])\n",
        "\n",
        "    if len(list_kp1) >= 4:\n",
        "      h, mask = cv2.findHomography(list_kp1, list_kp2, cv2.RANSAC, 5.0)\n",
        "      perspective_img = cv2.warpPerspective(img, h, img.shape[:2])\n",
        "      return perspective_img, h,1\n",
        "    else:\n",
        "      print(\"FAILED\")\n",
        "      return img, 0,0\n",
        "  else:\n",
        "      print(\"FAILED\")\n",
        "      return img, 0,0"
      ],
      "metadata": {
        "id": "Cp_CMkdRwwEe"
      },
      "execution_count": null,
      "outputs": []
    },
    {
      "cell_type": "code",
      "source": [
        "def get_mask(im, json_file):\n",
        "    mask = np.zeros(shape=(im.shape[0], im.shape[1]), dtype=np.float32)\n",
        "    for shape in json_file['shapes']:\n",
        "        points = np.array(shape['points'], dtype=np.int32)\n",
        "        cv2.fillPoly(mask, [points], 255)\n",
        "    return mask"
      ],
      "metadata": {
        "id": "eBFdnt_DKAV7"
      },
      "execution_count": null,
      "outputs": []
    },
    {
      "cell_type": "code",
      "source": [
        "files = glob.glob(\"/content/Dataset/*\")\n",
        "idx=0\n",
        "for idx in range(len(files)) :\n",
        "  file = files[idx]\n",
        "  if(file.endswith('.json')):\n",
        "    continue\n",
        "  f = open(file[:-3]+\"json\", encoding=\"utf8\")\n",
        "  json_file = json.load(f)\n",
        "  f.close()\n",
        "  img1 = cv2.imread(file)\n",
        "  mask_img = get_mask(img1,json_file)\n",
        "  mask_img = mask_img[75:-75,75:-75] \n",
        "  img1 = img1[75:-75,75:-75] \n",
        "  \n",
        "  img2 = cv2.imread('/content/Patterns/' + json_file['pattern'])      \n",
        "  img2 = cv2.resize(img2, img1.shape[:2])\n",
        "  matched_img, t,r = perspective(img2, img1)\n",
        "  if(not r):\n",
        "    continue\n",
        "  url = f\"/content/drive/MyDrive/CV/Lastxxxx/img{idx}\"\n",
        "  cv2.imwrite(url+file[-4:], img1)\n",
        "  cv2.imwrite(url+\"_mask\"+file[-4:], mask_img)\n",
        "  cv2.imwrite(url+json_file['pattern'][-4:], matched_img)\n",
        "  "
      ],
      "metadata": {
        "id": "5hMlmRh1ysap"
      },
      "execution_count": null,
      "outputs": []
    },
    {
      "cell_type": "markdown",
      "source": [
        "#Siamese Model V1"
      ],
      "metadata": {
        "id": "m8H3xExNtXRQ"
      }
    },
    {
      "cell_type": "code",
      "execution_count": 4,
      "metadata": {
        "id": "9yDyUQ3PjMKY"
      },
      "outputs": [],
      "source": [
        "def create_model():\n",
        "    inputs = layers.Input((16, 16, 1))\n",
        "    x =  layers.Conv2D(96, (11, 11), padding=\"same\", activation=\"relu\")(inputs)\n",
        "    x = layers.MaxPooling2D(pool_size=(2, 2))(x)\n",
        "    x = layers.Dropout(0.3)(x)\n",
        "\n",
        "    x = layers.Conv2D(256, (5, 5), padding=\"same\", activation=\"relu\")(x)\n",
        "    x = layers.MaxPooling2D(pool_size=(2, 2))(x)\n",
        "    x = layers.Dropout(0.3)(x)\n",
        "\n",
        "    x = layers.Conv2D(384, (3, 3), padding=\"same\", activation=\"relu\")(x)\n",
        "    x = layers.MaxPooling2D(pool_size=(2, 2))(x)\n",
        "    x = layers.Dropout(0.3)(x)\n",
        "\n",
        "    pooledOutput = layers.GlobalAveragePooling2D()(x)\n",
        "    pooledOutput = layers.Dense(1024)(pooledOutput)\n",
        "    outputs = layers.Dense(128)(pooledOutput)\n",
        "\n",
        "    model = keras.Model(inputs, outputs)\n",
        "    return model"
      ]
    },
    {
      "cell_type": "code",
      "source": [
        "feature_extractor = create_model()\n",
        "imgA = layers.Input(shape=(16, 16, 1))\n",
        "imgB = layers.Input(shape=(16, 16, 1))\n",
        "featA = feature_extractor(imgA)\n",
        "featB = feature_extractor(imgB)"
      ],
      "metadata": {
        "id": "h6LNj3DWnYU5"
      },
      "execution_count": 5,
      "outputs": []
    },
    {
      "cell_type": "code",
      "source": [
        "def euclidean_distance(vectors):\n",
        "    (featA, featB) = vectors\n",
        "    sum_squared = k.sum(k.square(featA - featB), axis=1, keepdims=True)\n",
        "    return k.sqrt(k.maximum(sum_squared, k.epsilon()))\n",
        "\n",
        "distance = layers.Lambda(euclidean_distance)([featA, featB])\n",
        "outputs = layers.Dense(1, activation=\"sigmoid\")(distance)\n",
        "model =  keras.Model(inputs=[imgA, imgB], outputs=outputs)"
      ],
      "metadata": {
        "id": "2I1ljN9BoEpS"
      },
      "execution_count": 6,
      "outputs": []
    },
    {
      "cell_type": "code",
      "source": [
        "model.compile(loss=\"binary_crossentropy\", optimizer=\"adam\", metrics=[\"accuracy\"])"
      ],
      "metadata": {
        "id": "UhtvA6-soR0B"
      },
      "execution_count": 7,
      "outputs": []
    },
    {
      "cell_type": "code",
      "source": [
        "def sliding_window(image, stepSize, windowSize):\n",
        "\tfor y in range(0, image.shape[0], stepSize):\n",
        "\t\tfor x in range(0, image.shape[1], stepSize):\n",
        "\t\t\tyield (x, y, image[y:y + windowSize[1], x:x + windowSize[0]])"
      ],
      "metadata": {
        "id": "a_OpdbOQQejR"
      },
      "execution_count": 8,
      "outputs": []
    },
    {
      "cell_type": "code",
      "source": [
        "def crop_image(image,points):\n",
        "    x,y,xw,yh = points\n",
        "    return image[y:yh, x:xw]"
      ],
      "metadata": {
        "id": "2w8VBgHLSonr"
      },
      "execution_count": 9,
      "outputs": []
    },
    {
      "cell_type": "code",
      "source": [
        "files = glob.glob(\"/content/drive/MyDrive/CV/Last/*\")\n",
        "pair_images = []\n",
        "pair_labels = []\n",
        "(winW, winH) = (16,16)\n",
        "for idx in range(len(files)) :\n",
        "  file = files[idx]\n",
        "  if(file.endswith('.tif') or file.__contains__('mask')):\n",
        "    continue\n",
        "  img = cv2.imread(file,0)\n",
        "  pattern_img = cv2.imread(file[:-4]+\".tif\",0)\n",
        "  mask_img = cv2.imread(file[:-4]+\"_mask\"+file[-4:],0)\n",
        "\n",
        "  for (x, y, window) in sliding_window(img, stepSize=16, windowSize=(winW, winH)):\n",
        "      if (window.shape[0] != winH or window.shape[1] != winW):\n",
        "        continue\n",
        "      box = [x,y,x+winW,y+winH]\n",
        "      box_img = crop_image(img,box)\n",
        "      box_pattern_img = crop_image(pattern_img,box)\n",
        "      box_mask_img = crop_image(mask_img,box)\n",
        "      pair_images.append((box_img,box_pattern_img))\n",
        "      count = np.count_nonzero(box_mask_img)\n",
        "      if(count>100):\n",
        "        pair_labels.append(1)\n",
        "      else:\n",
        "        pair_labels.append(0)\n",
        "\n"
      ],
      "metadata": {
        "id": "lWcDEwM0Qnrv"
      },
      "execution_count": null,
      "outputs": []
    },
    {
      "cell_type": "code",
      "source": [
        "from keras.applications.resnet import preprocess_input\n",
        "\n",
        "class DataGenerator(keras.utils.Sequence):\n",
        "    'Generates data for Keras'\n",
        "    def __init__(self, data, batch_size=32, dim=(16, 16), n_channels=1, shuffle=True):\n",
        "        'Initialization'\n",
        "        self.files = data\n",
        "        self.batch_size = batch_size\n",
        "        self.dim = dim\n",
        "        self.n_channels = n_channels\n",
        "        self.shuffle = shuffle\n",
        "        self.on_epoch_end()\n",
        "\n",
        "    def __len__(self):\n",
        "        'Denotes the number of batches per epoch'\n",
        "        return int(np.floor(len(self.files) / self.batch_size))\n",
        "\n",
        "    def __getitem__(self, index):\n",
        "        'Generate one batch of data'\n",
        "        # Generate indexes of the batch\n",
        "        indexes = self.indexes[index*self.batch_size:(index+1)*self.batch_size]\n",
        "\n",
        "        # Initialization\n",
        "        pair_images = np.empty((self.batch_size, *self.dim, self.n_channels))\n",
        "        pair_labels = np.empty((self.batch_size), dtype=int)\n",
        "\n",
        "        # Generate data\n",
        "        for i, ind in enumerate(indexes):\n",
        "              file = files[ind]\n",
        "              if(file.endswith('.tif') or file.__contains__('mask')):\n",
        "                continue\n",
        "              img = cv2.imread(file,0)\n",
        "              pattern_img = cv2.imread(file[:-4]+\".tif\",0)\n",
        "              mask_img = cv2.imread(file[:-4]+\"_mask\"+file[-4:],0)\n",
        "              (winW, winH) = self.dim\n",
        "              for (x, y, window) in sliding_window(img, stepSize=16, windowSize=(winW, winH)):\n",
        "                  if (window.shape[0] != winH or window.shape[1] != winW):\n",
        "                    continue\n",
        "                  box = [x,y,x+winW,y+winH]\n",
        "                  box_img = crop_image(img,box)\n",
        "                  box_pattern_img = crop_image(pattern_img,box)\n",
        "                  box_mask_img = crop_image(mask_img,box)\n",
        "                  pair_images[i]=(box_img,box_pattern_img)\n",
        "                  count = np.count_nonzero(box_mask_img)\n",
        "                  if(count>100):\n",
        "                    pair_labels[i]=1\n",
        "                  else:\n",
        "                    pair_labels[i]=0\n",
        "        return \n",
        "\n",
        "    def on_epoch_end(self):\n",
        "        'Updates indexes after each epoch'\n",
        "        self.indexes = np.arange(len(self.files))\n",
        "        if self.shuffle == True:\n",
        "            np.random.shuffle(self.indexes)\n"
      ],
      "metadata": {
        "id": "UIqCdwl4hwF-"
      },
      "execution_count": 19,
      "outputs": []
    },
    {
      "cell_type": "code",
      "source": [
        "files = glob.glob(\"/content/drive/MyDrive/CV/Last/*\")\n",
        "train_generator = DataGenerator(files)\n",
        "valid_generator = DataGenerator(files, shuffle=False)\n",
        "X, y = train_generator.__getitem__(1)\n",
        "print(X.shape)\n",
        "print(y.shape)"
      ],
      "metadata": {
        "id": "BBoplYcF9r3g"
      },
      "execution_count": null,
      "outputs": []
    },
    {
      "cell_type": "code",
      "source": [
        "history = model.fit(train_generator,validation_data=valid_generator,bacepochs=50,batch_size=4)"
      ],
      "metadata": {
        "id": "ldG2oHVu9s9c"
      },
      "execution_count": null,
      "outputs": []
    },
    {
      "cell_type": "markdown",
      "source": [
        "#Siamese(U-NET) Model V2"
      ],
      "metadata": {
        "id": "pWmIT8WWnjw-"
      }
    },
    {
      "cell_type": "code",
      "source": [
        "def get_model(img_size, num_classes):\n",
        "    inputs = keras.Input(shape=img_size + (3,))\n",
        "\n",
        "    ### [First half of the network: downsampling inputs] ###\n",
        "\n",
        "    # Entry block\n",
        "    x = layers.Conv2D(32, 3, strides=2, padding=\"same\")(inputs)\n",
        "    x = layers.BatchNormalization()(x)\n",
        "    x = layers.Activation(\"relu\")(x)\n",
        "\n",
        "    previous_block_activation = x  # Set aside residual\n",
        "\n",
        "    # Blocks 1, 2, 3 are identical apart from the feature depth.\n",
        "    for filters in [64, 128, 256]:\n",
        "        x = layers.Activation(\"relu\")(x)\n",
        "        x = layers.SeparableConv2D(filters, 3, padding=\"same\")(x)\n",
        "        x = layers.BatchNormalization()(x)\n",
        "\n",
        "        x = layers.Activation(\"relu\")(x)\n",
        "        x = layers.SeparableConv2D(filters, 3, padding=\"same\")(x)\n",
        "        x = layers.BatchNormalization()(x)\n",
        "\n",
        "        x = layers.MaxPooling2D(3, strides=2, padding=\"same\")(x)\n",
        "\n",
        "        # Project residual\n",
        "        residual = layers.Conv2D(filters, 1, strides=2, padding=\"same\")(\n",
        "            previous_block_activation\n",
        "        )\n",
        "        x = layers.add([x, residual])  # Add back residual\n",
        "        previous_block_activation = x  # Set aside next residual\n",
        "\n",
        "    ### [Second half of the network: upsampling inputs] ###\n",
        "\n",
        "    for filters in [256, 128, 64, 32]:\n",
        "        x = layers.Activation(\"relu\")(x)\n",
        "        x = layers.Conv2DTranspose(filters, 3, padding=\"same\")(x)\n",
        "        x = layers.BatchNormalization()(x)\n",
        "\n",
        "        x = layers.Activation(\"relu\")(x)\n",
        "        x = layers.Conv2DTranspose(filters, 3, padding=\"same\")(x)\n",
        "        x = layers.BatchNormalization()(x)\n",
        "\n",
        "        x = layers.UpSampling2D(2)(x)\n",
        "\n",
        "        # Project residual\n",
        "        residual = layers.UpSampling2D(2)(previous_block_activation)\n",
        "        residual = layers.Conv2D(filters, 1, padding=\"same\")(residual)\n",
        "        x = layers.add([x, residual])  # Add back residual\n",
        "        previous_block_activation = x  # Set aside next residual\n",
        "\n",
        "    # Add a per-pixel classification layer\n",
        "    outputs = layers.Conv2D(num_classes, 3, activation=\"softmax\", padding=\"same\")(x)\n",
        "\n",
        "    # Define the model\n",
        "    model = keras.Model(inputs, outputs)\n",
        "    return model\n",
        "\n",
        "\n",
        "# Free up RAM in case the model definition cells were run multiple times\n",
        "keras.backend.clear_session()\n",
        "\n",
        "# Build model\n",
        "model = get_model((256,256), 1)\n",
        "model.summary()"
      ],
      "metadata": {
        "colab": {
          "base_uri": "https://localhost:8080/"
        },
        "id": "rubckzM89exe",
        "outputId": "62cbf30d-a731-4e2f-b621-e5d52df68548"
      },
      "execution_count": 21,
      "outputs": [
        {
          "output_type": "stream",
          "name": "stdout",
          "text": [
            "Model: \"model\"\n",
            "__________________________________________________________________________________________________\n",
            " Layer (type)                   Output Shape         Param #     Connected to                     \n",
            "==================================================================================================\n",
            " input_1 (InputLayer)           [(None, 256, 256, 3  0           []                               \n",
            "                                )]                                                                \n",
            "                                                                                                  \n",
            " conv2d (Conv2D)                (None, 128, 128, 32  896         ['input_1[0][0]']                \n",
            "                                )                                                                 \n",
            "                                                                                                  \n",
            " batch_normalization (BatchNorm  (None, 128, 128, 32  128        ['conv2d[0][0]']                 \n",
            " alization)                     )                                                                 \n",
            "                                                                                                  \n",
            " activation (Activation)        (None, 128, 128, 32  0           ['batch_normalization[0][0]']    \n",
            "                                )                                                                 \n",
            "                                                                                                  \n",
            " activation_1 (Activation)      (None, 128, 128, 32  0           ['activation[0][0]']             \n",
            "                                )                                                                 \n",
            "                                                                                                  \n",
            " separable_conv2d (SeparableCon  (None, 128, 128, 64  2400       ['activation_1[0][0]']           \n",
            " v2D)                           )                                                                 \n",
            "                                                                                                  \n",
            " batch_normalization_1 (BatchNo  (None, 128, 128, 64  256        ['separable_conv2d[0][0]']       \n",
            " rmalization)                   )                                                                 \n",
            "                                                                                                  \n",
            " activation_2 (Activation)      (None, 128, 128, 64  0           ['batch_normalization_1[0][0]']  \n",
            "                                )                                                                 \n",
            "                                                                                                  \n",
            " separable_conv2d_1 (SeparableC  (None, 128, 128, 64  4736       ['activation_2[0][0]']           \n",
            " onv2D)                         )                                                                 \n",
            "                                                                                                  \n",
            " batch_normalization_2 (BatchNo  (None, 128, 128, 64  256        ['separable_conv2d_1[0][0]']     \n",
            " rmalization)                   )                                                                 \n",
            "                                                                                                  \n",
            " max_pooling2d (MaxPooling2D)   (None, 64, 64, 64)   0           ['batch_normalization_2[0][0]']  \n",
            "                                                                                                  \n",
            " conv2d_1 (Conv2D)              (None, 64, 64, 64)   2112        ['activation[0][0]']             \n",
            "                                                                                                  \n",
            " add (Add)                      (None, 64, 64, 64)   0           ['max_pooling2d[0][0]',          \n",
            "                                                                  'conv2d_1[0][0]']               \n",
            "                                                                                                  \n",
            " activation_3 (Activation)      (None, 64, 64, 64)   0           ['add[0][0]']                    \n",
            "                                                                                                  \n",
            " separable_conv2d_2 (SeparableC  (None, 64, 64, 128)  8896       ['activation_3[0][0]']           \n",
            " onv2D)                                                                                           \n",
            "                                                                                                  \n",
            " batch_normalization_3 (BatchNo  (None, 64, 64, 128)  512        ['separable_conv2d_2[0][0]']     \n",
            " rmalization)                                                                                     \n",
            "                                                                                                  \n",
            " activation_4 (Activation)      (None, 64, 64, 128)  0           ['batch_normalization_3[0][0]']  \n",
            "                                                                                                  \n",
            " separable_conv2d_3 (SeparableC  (None, 64, 64, 128)  17664      ['activation_4[0][0]']           \n",
            " onv2D)                                                                                           \n",
            "                                                                                                  \n",
            " batch_normalization_4 (BatchNo  (None, 64, 64, 128)  512        ['separable_conv2d_3[0][0]']     \n",
            " rmalization)                                                                                     \n",
            "                                                                                                  \n",
            " max_pooling2d_1 (MaxPooling2D)  (None, 32, 32, 128)  0          ['batch_normalization_4[0][0]']  \n",
            "                                                                                                  \n",
            " conv2d_2 (Conv2D)              (None, 32, 32, 128)  8320        ['add[0][0]']                    \n",
            "                                                                                                  \n",
            " add_1 (Add)                    (None, 32, 32, 128)  0           ['max_pooling2d_1[0][0]',        \n",
            "                                                                  'conv2d_2[0][0]']               \n",
            "                                                                                                  \n",
            " activation_5 (Activation)      (None, 32, 32, 128)  0           ['add_1[0][0]']                  \n",
            "                                                                                                  \n",
            " separable_conv2d_4 (SeparableC  (None, 32, 32, 256)  34176      ['activation_5[0][0]']           \n",
            " onv2D)                                                                                           \n",
            "                                                                                                  \n",
            " batch_normalization_5 (BatchNo  (None, 32, 32, 256)  1024       ['separable_conv2d_4[0][0]']     \n",
            " rmalization)                                                                                     \n",
            "                                                                                                  \n",
            " activation_6 (Activation)      (None, 32, 32, 256)  0           ['batch_normalization_5[0][0]']  \n",
            "                                                                                                  \n",
            " separable_conv2d_5 (SeparableC  (None, 32, 32, 256)  68096      ['activation_6[0][0]']           \n",
            " onv2D)                                                                                           \n",
            "                                                                                                  \n",
            " batch_normalization_6 (BatchNo  (None, 32, 32, 256)  1024       ['separable_conv2d_5[0][0]']     \n",
            " rmalization)                                                                                     \n",
            "                                                                                                  \n",
            " max_pooling2d_2 (MaxPooling2D)  (None, 16, 16, 256)  0          ['batch_normalization_6[0][0]']  \n",
            "                                                                                                  \n",
            " conv2d_3 (Conv2D)              (None, 16, 16, 256)  33024       ['add_1[0][0]']                  \n",
            "                                                                                                  \n",
            " add_2 (Add)                    (None, 16, 16, 256)  0           ['max_pooling2d_2[0][0]',        \n",
            "                                                                  'conv2d_3[0][0]']               \n",
            "                                                                                                  \n",
            " activation_7 (Activation)      (None, 16, 16, 256)  0           ['add_2[0][0]']                  \n",
            "                                                                                                  \n",
            " conv2d_transpose (Conv2DTransp  (None, 16, 16, 256)  590080     ['activation_7[0][0]']           \n",
            " ose)                                                                                             \n",
            "                                                                                                  \n",
            " batch_normalization_7 (BatchNo  (None, 16, 16, 256)  1024       ['conv2d_transpose[0][0]']       \n",
            " rmalization)                                                                                     \n",
            "                                                                                                  \n",
            " activation_8 (Activation)      (None, 16, 16, 256)  0           ['batch_normalization_7[0][0]']  \n",
            "                                                                                                  \n",
            " conv2d_transpose_1 (Conv2DTran  (None, 16, 16, 256)  590080     ['activation_8[0][0]']           \n",
            " spose)                                                                                           \n",
            "                                                                                                  \n",
            " batch_normalization_8 (BatchNo  (None, 16, 16, 256)  1024       ['conv2d_transpose_1[0][0]']     \n",
            " rmalization)                                                                                     \n",
            "                                                                                                  \n",
            " up_sampling2d_1 (UpSampling2D)  (None, 32, 32, 256)  0          ['add_2[0][0]']                  \n",
            "                                                                                                  \n",
            " up_sampling2d (UpSampling2D)   (None, 32, 32, 256)  0           ['batch_normalization_8[0][0]']  \n",
            "                                                                                                  \n",
            " conv2d_4 (Conv2D)              (None, 32, 32, 256)  65792       ['up_sampling2d_1[0][0]']        \n",
            "                                                                                                  \n",
            " add_3 (Add)                    (None, 32, 32, 256)  0           ['up_sampling2d[0][0]',          \n",
            "                                                                  'conv2d_4[0][0]']               \n",
            "                                                                                                  \n",
            " activation_9 (Activation)      (None, 32, 32, 256)  0           ['add_3[0][0]']                  \n",
            "                                                                                                  \n",
            " conv2d_transpose_2 (Conv2DTran  (None, 32, 32, 128)  295040     ['activation_9[0][0]']           \n",
            " spose)                                                                                           \n",
            "                                                                                                  \n",
            " batch_normalization_9 (BatchNo  (None, 32, 32, 128)  512        ['conv2d_transpose_2[0][0]']     \n",
            " rmalization)                                                                                     \n",
            "                                                                                                  \n",
            " activation_10 (Activation)     (None, 32, 32, 128)  0           ['batch_normalization_9[0][0]']  \n",
            "                                                                                                  \n",
            " conv2d_transpose_3 (Conv2DTran  (None, 32, 32, 128)  147584     ['activation_10[0][0]']          \n",
            " spose)                                                                                           \n",
            "                                                                                                  \n",
            " batch_normalization_10 (BatchN  (None, 32, 32, 128)  512        ['conv2d_transpose_3[0][0]']     \n",
            " ormalization)                                                                                    \n",
            "                                                                                                  \n",
            " up_sampling2d_3 (UpSampling2D)  (None, 64, 64, 256)  0          ['add_3[0][0]']                  \n",
            "                                                                                                  \n",
            " up_sampling2d_2 (UpSampling2D)  (None, 64, 64, 128)  0          ['batch_normalization_10[0][0]'] \n",
            "                                                                                                  \n",
            " conv2d_5 (Conv2D)              (None, 64, 64, 128)  32896       ['up_sampling2d_3[0][0]']        \n",
            "                                                                                                  \n",
            " add_4 (Add)                    (None, 64, 64, 128)  0           ['up_sampling2d_2[0][0]',        \n",
            "                                                                  'conv2d_5[0][0]']               \n",
            "                                                                                                  \n",
            " activation_11 (Activation)     (None, 64, 64, 128)  0           ['add_4[0][0]']                  \n",
            "                                                                                                  \n",
            " conv2d_transpose_4 (Conv2DTran  (None, 64, 64, 64)  73792       ['activation_11[0][0]']          \n",
            " spose)                                                                                           \n",
            "                                                                                                  \n",
            " batch_normalization_11 (BatchN  (None, 64, 64, 64)  256         ['conv2d_transpose_4[0][0]']     \n",
            " ormalization)                                                                                    \n",
            "                                                                                                  \n",
            " activation_12 (Activation)     (None, 64, 64, 64)   0           ['batch_normalization_11[0][0]'] \n",
            "                                                                                                  \n",
            " conv2d_transpose_5 (Conv2DTran  (None, 64, 64, 64)  36928       ['activation_12[0][0]']          \n",
            " spose)                                                                                           \n",
            "                                                                                                  \n",
            " batch_normalization_12 (BatchN  (None, 64, 64, 64)  256         ['conv2d_transpose_5[0][0]']     \n",
            " ormalization)                                                                                    \n",
            "                                                                                                  \n",
            " up_sampling2d_5 (UpSampling2D)  (None, 128, 128, 12  0          ['add_4[0][0]']                  \n",
            "                                8)                                                                \n",
            "                                                                                                  \n",
            " up_sampling2d_4 (UpSampling2D)  (None, 128, 128, 64  0          ['batch_normalization_12[0][0]'] \n",
            "                                )                                                                 \n",
            "                                                                                                  \n",
            " conv2d_6 (Conv2D)              (None, 128, 128, 64  8256        ['up_sampling2d_5[0][0]']        \n",
            "                                )                                                                 \n",
            "                                                                                                  \n",
            " add_5 (Add)                    (None, 128, 128, 64  0           ['up_sampling2d_4[0][0]',        \n",
            "                                )                                 'conv2d_6[0][0]']               \n",
            "                                                                                                  \n",
            " activation_13 (Activation)     (None, 128, 128, 64  0           ['add_5[0][0]']                  \n",
            "                                )                                                                 \n",
            "                                                                                                  \n",
            " conv2d_transpose_6 (Conv2DTran  (None, 128, 128, 32  18464      ['activation_13[0][0]']          \n",
            " spose)                         )                                                                 \n",
            "                                                                                                  \n",
            " batch_normalization_13 (BatchN  (None, 128, 128, 32  128        ['conv2d_transpose_6[0][0]']     \n",
            " ormalization)                  )                                                                 \n",
            "                                                                                                  \n",
            " activation_14 (Activation)     (None, 128, 128, 32  0           ['batch_normalization_13[0][0]'] \n",
            "                                )                                                                 \n",
            "                                                                                                  \n",
            " conv2d_transpose_7 (Conv2DTran  (None, 128, 128, 32  9248       ['activation_14[0][0]']          \n",
            " spose)                         )                                                                 \n",
            "                                                                                                  \n",
            " batch_normalization_14 (BatchN  (None, 128, 128, 32  128        ['conv2d_transpose_7[0][0]']     \n",
            " ormalization)                  )                                                                 \n",
            "                                                                                                  \n",
            " up_sampling2d_7 (UpSampling2D)  (None, 256, 256, 64  0          ['add_5[0][0]']                  \n",
            "                                )                                                                 \n",
            "                                                                                                  \n",
            " up_sampling2d_6 (UpSampling2D)  (None, 256, 256, 32  0          ['batch_normalization_14[0][0]'] \n",
            "                                )                                                                 \n",
            "                                                                                                  \n",
            " conv2d_7 (Conv2D)              (None, 256, 256, 32  2080        ['up_sampling2d_7[0][0]']        \n",
            "                                )                                                                 \n",
            "                                                                                                  \n",
            " add_6 (Add)                    (None, 256, 256, 32  0           ['up_sampling2d_6[0][0]',        \n",
            "                                )                                 'conv2d_7[0][0]']               \n",
            "                                                                                                  \n",
            " conv2d_8 (Conv2D)              (None, 256, 256, 1)  289         ['add_6[0][0]']                  \n",
            "                                                                                                  \n",
            "==================================================================================================\n",
            "Total params: 2,058,401\n",
            "Trainable params: 2,054,625\n",
            "Non-trainable params: 3,776\n",
            "__________________________________________________________________________________________________\n"
          ]
        }
      ]
    },
    {
      "cell_type": "code",
      "source": [
        "embedding_network = get_model((256,256), 1)\n",
        "# Provided two tensors t1 and t2\n",
        "# Euclidean distance = sqrt(sum(square(t1-t2)))\n",
        "def euclidean_distance(vects):\n",
        "    \"\"\"Find the Euclidean distance between two vectors.\n",
        "\n",
        "    Arguments:\n",
        "        vects: List containing two tensors of same length.\n",
        "\n",
        "    Returns:\n",
        "        Tensor containing euclidean distance\n",
        "        (as floating point value) between vectors.\n",
        "    \"\"\"\n",
        "\n",
        "    x, y = vects\n",
        "    sum_square = tf.math.reduce_sum(tf.math.square(x - y), axis=1, keepdims=True)\n",
        "    return tf.math.sqrt(tf.math.maximum(sum_square, tf.keras.backend.epsilon()))\n",
        "\n",
        "\n",
        "input_1 = layers.Input((256, 256, 3))\n",
        "input_2 = layers.Input((256, 256, 3))\n",
        "\n",
        "# As mentioned above, Siamese Network share weights between\n",
        "# tower networks (sister networks). To allow this, we will use\n",
        "# same embedding network for both tower networks.\n",
        "tower_1 = embedding_network(input_1)\n",
        "tower_2 = embedding_network(input_2)\n",
        "\n",
        "# merge_layer = layers.Lambda(euclidean_distance)([tower_1, tower_2])\n",
        "merge_layer = layers.Concatenate()([tower_1, tower_2])\n",
        "# subtracted = keras.layers.Subtract()([tower_1, tower_2])\n",
        "normal_layer = tf.keras.layers.BatchNormalization()(merge_layer)\n",
        "output_layer = layers.Dense(1, activation=\"sigmoid\")(normal_layer)\n",
        "siamese = keras.Model(inputs=[input_1, input_2], outputs=output_layer)"
      ],
      "metadata": {
        "id": "4gMtpM4MvvJL"
      },
      "execution_count": 23,
      "outputs": []
    },
    {
      "cell_type": "code",
      "source": [
        "def loss(margin=1):\n",
        "    \"\"\"Provides 'constrastive_loss' an enclosing scope with variable 'margin'.\n",
        "\n",
        "    Arguments:\n",
        "        margin: Integer, defines the baseline for distance for which pairs\n",
        "                should be classified as dissimilar. - (default is 1).\n",
        "\n",
        "    Returns:\n",
        "        'constrastive_loss' function with data ('margin') attached.\n",
        "    \"\"\"\n",
        "\n",
        "    # Contrastive loss = mean( (1-true_value) * square(prediction) +\n",
        "    #                         true_value * square( max(margin-prediction, 0) ))\n",
        "    def contrastive_loss(y_true, y_pred):\n",
        "        \"\"\"Calculates the constrastive loss.\n",
        "\n",
        "        Arguments:\n",
        "            y_true: List of labels, each label is of type float32.\n",
        "            y_pred: List of predictions of same length as of y_true,\n",
        "                    each label is of type float32.\n",
        "\n",
        "        Returns:\n",
        "            A tensor containing constrastive loss as floating point value.\n",
        "        \"\"\"\n",
        "        square_pred = tf.math.square(y_pred)\n",
        "        margin_square = tf.math.square(tf.math.maximum(margin - (y_pred), 0))\n",
        "        return tf.math.reduce_mean(\n",
        "            (1 - y_true) * square_pred + (y_true) * margin_square\n",
        "        )\n",
        "\n",
        "    return contrastive_loss"
      ],
      "metadata": {
        "id": "5-3ir2Chxo2M"
      },
      "execution_count": 24,
      "outputs": []
    },
    {
      "cell_type": "code",
      "source": [
        "siamese.compile(loss=loss(margin=1), optimizer=\"RMSprop\", metrics=[\"accuracy\"])\n",
        "siamese.summary()\n"
      ],
      "metadata": {
        "colab": {
          "base_uri": "https://localhost:8080/"
        },
        "id": "FdqTrZ2Qt8Bq",
        "outputId": "26527bf2-5646-43b1-a203-e892a7ec5731"
      },
      "execution_count": 25,
      "outputs": [
        {
          "output_type": "stream",
          "name": "stdout",
          "text": [
            "Model: \"model_3\"\n",
            "__________________________________________________________________________________________________\n",
            " Layer (type)                   Output Shape         Param #     Connected to                     \n",
            "==================================================================================================\n",
            " input_6 (InputLayer)           [(None, 256, 256, 3  0           []                               \n",
            "                                )]                                                                \n",
            "                                                                                                  \n",
            " input_7 (InputLayer)           [(None, 256, 256, 3  0           []                               \n",
            "                                )]                                                                \n",
            "                                                                                                  \n",
            " model_2 (Functional)           (None, 256, 256, 1)  2058401     ['input_6[0][0]',                \n",
            "                                                                  'input_7[0][0]']                \n",
            "                                                                                                  \n",
            " concatenate (Concatenate)      (None, 256, 256, 2)  0           ['model_2[0][0]',                \n",
            "                                                                  'model_2[1][0]']                \n",
            "                                                                                                  \n",
            " batch_normalization_45 (BatchN  (None, 256, 256, 2)  8          ['concatenate[0][0]']            \n",
            " ormalization)                                                                                    \n",
            "                                                                                                  \n",
            " dense (Dense)                  (None, 256, 256, 1)  3           ['batch_normalization_45[0][0]'] \n",
            "                                                                                                  \n",
            "==================================================================================================\n",
            "Total params: 2,058,412\n",
            "Trainable params: 2,054,632\n",
            "Non-trainable params: 3,780\n",
            "__________________________________________________________________________________________________\n"
          ]
        }
      ]
    },
    {
      "cell_type": "code",
      "source": [
        "files = glob.glob(\"/content/drive/MyDrive/CV/Last/*\")\n",
        "x_train = []\n",
        "y_train = []\n",
        "(winW, winH) = (256,256)\n",
        "for idx in range(len(files)) :\n",
        "  file = files[idx]\n",
        "  if(file.endswith('.tif') or file.__contains__('mask')):\n",
        "    continue\n",
        "  img =cv2.resize(cv2.imread(file),(winW, winH))\n",
        "  pattern_img = cv2.resize(cv2.imread(file[:-4]+\".tif\"),(winW, winH))\n",
        "  mask_img = cv2.resize(cv2.imread(file[:-4]+\"_mask\"+file[-4:],0),(winW, winH))\n",
        "  x_train.append((img,pattern_img))\n",
        "  y_train.append(mask_img)"
      ],
      "metadata": {
        "id": "S3k7PAR1ltYH"
      },
      "execution_count": 26,
      "outputs": []
    },
    {
      "cell_type": "code",
      "source": [
        "x_train,y_train  = np.array(x_train),np.array(y_train).astype(\"float32\")\n",
        "x_train, x_test, y_train, y_test = train_test_split(x_train, y_train, test_size=0.2)\n"
      ],
      "metadata": {
        "id": "2OS5ovGHt95b"
      },
      "execution_count": 29,
      "outputs": []
    },
    {
      "cell_type": "code",
      "source": [
        "print(x_train[1].shape)"
      ],
      "metadata": {
        "colab": {
          "base_uri": "https://localhost:8080/"
        },
        "id": "HzXA-_aXx5e9",
        "outputId": "6c57a34c-742b-4327-cf81-ee114636764e"
      },
      "execution_count": 115,
      "outputs": [
        {
          "output_type": "stream",
          "name": "stdout",
          "text": [
            "(256, 256, 3)\n"
          ]
        }
      ]
    },
    {
      "cell_type": "code",
      "source": [
        "# Train the model, doing validation at the end of each epoch.\n",
        "history = siamese.fit([x_train[:, 0], x_train[:, 1]],y_train,batch_size=4,epochs=5, validation_data=([x_test[:, 0], x_test[:, 1]], y_test))\n"
      ],
      "metadata": {
        "colab": {
          "base_uri": "https://localhost:8080/"
        },
        "id": "JxNqIX3E-gSQ",
        "outputId": "27eb1f1b-a7a7-49ec-fe8d-cd3059436506"
      },
      "execution_count": 30,
      "outputs": [
        {
          "output_type": "stream",
          "name": "stdout",
          "text": [
            "Epoch 1/5\n",
            "61/61 [==============================] - 350s 6s/step - loss: 0.2457 - accuracy: 0.9986 - val_loss: 0.2414 - val_accuracy: 0.9983\n",
            "Epoch 2/5\n",
            "61/61 [==============================] - 318s 5s/step - loss: 0.2392 - accuracy: 0.9986 - val_loss: 0.2393 - val_accuracy: 0.9983\n",
            "Epoch 3/5\n",
            "61/61 [==============================] - 318s 5s/step - loss: 0.2333 - accuracy: 0.9986 - val_loss: 0.2373 - val_accuracy: 0.9983\n",
            "Epoch 4/5\n",
            "61/61 [==============================] - 319s 5s/step - loss: 0.2282 - accuracy: 0.9986 - val_loss: 0.2356 - val_accuracy: 0.9983\n",
            "Epoch 5/5\n",
            "61/61 [==============================] - 325s 5s/step - loss: 0.2242 - accuracy: 0.9986 - val_loss: 0.2346 - val_accuracy: 0.9983\n"
          ]
        }
      ]
    },
    {
      "cell_type": "code",
      "source": [
        "history = siamese.fit([x_train[:, 0], x_train[:, 1]],y_train,batch_size=4,epochs=5, validation_data=([x_test[:, 0], x_test[:, 1]], y_test))\n"
      ],
      "metadata": {
        "colab": {
          "base_uri": "https://localhost:8080/"
        },
        "id": "elC0qA_mmgYW",
        "outputId": "15c6013d-0e6d-43d8-9402-944345c74107"
      },
      "execution_count": 108,
      "outputs": [
        {
          "output_type": "stream",
          "name": "stdout",
          "text": [
            "Epoch 1/5\n",
            "49/49 [==============================] - 176s 3s/step - loss: 0.2450 - accuracy: 0.9987 - val_loss: 0.2173 - val_accuracy: 0.9986\n",
            "Epoch 2/5\n",
            "49/49 [==============================] - 163s 3s/step - loss: 0.2379 - accuracy: 0.9987 - val_loss: 0.2133 - val_accuracy: 0.9986\n",
            "Epoch 3/5\n",
            "49/49 [==============================] - 164s 3s/step - loss: 0.2317 - accuracy: 0.9987 - val_loss: 0.2112 - val_accuracy: 0.9986\n",
            "Epoch 4/5\n",
            "49/49 [==============================] - 160s 3s/step - loss: 0.2262 - accuracy: 0.9987 - val_loss: 0.2102 - val_accuracy: 0.9986\n",
            "Epoch 5/5\n",
            "49/49 [==============================] - 164s 3s/step - loss: 0.2216 - accuracy: 0.9987 - val_loss: 0.2098 - val_accuracy: 0.9986\n"
          ]
        }
      ]
    },
    {
      "cell_type": "code",
      "source": [
        "def plt_metric(history, metric, title, has_valid=True):\n",
        "    \"\"\"Plots the given 'metric' from 'history'.\n",
        "\n",
        "    Arguments:\n",
        "        history: history attribute of History object returned from Model.fit.\n",
        "        metric: Metric to plot, a string value present as key in 'history'.\n",
        "        title: A string to be used as title of plot.\n",
        "        has_valid: Boolean, true if valid data was passed to Model.fit else false.\n",
        "\n",
        "    Returns:\n",
        "        None.\n",
        "    \"\"\"\n",
        "    plt.plot(history[metric])\n",
        "    if has_valid:\n",
        "        plt.plot(history[\"val_\" + metric])\n",
        "        plt.legend([\"train\", \"validation\"], loc=\"upper left\")\n",
        "    plt.title(title)\n",
        "    plt.ylabel(metric)\n",
        "    plt.xlabel(\"epoch\")\n",
        "    plt.show()\n",
        "\n",
        "\n",
        "# Plot the accuracy\n",
        "plt_metric(history=history.history, metric=\"accuracy\", title=\"Model accuracy\")\n",
        "\n",
        "# Plot the constrastive loss\n",
        "plt_metric(history=history.history, metric=\"loss\", title=\"Constrastive Loss\")"
      ],
      "metadata": {
        "colab": {
          "base_uri": "https://localhost:8080/",
          "height": 573
        },
        "id": "5r78Sv5z9VjD",
        "outputId": "a50317f7-adbd-449e-8980-bcd9727c8772"
      },
      "execution_count": 32,
      "outputs": [
        {
          "output_type": "display_data",
          "data": {
            "text/plain": [
              "<Figure size 432x288 with 1 Axes>"
            ],
            "image/png": "[encoded data removed]"
          },
          "metadata": {
            "needs_background": "light"
          }
        },
        {
          "output_type": "display_data",
          "data": {
            "text/plain": [
              "<Figure size 432x288 with 1 Axes>"
            ],
            "image/png": "[encoded data removed]"
          },
          "metadata": {
            "needs_background": "light"
          }
        }
      ]
    },
    {
      "cell_type": "markdown",
      "source": [
        "U-Net model\n"
      ],
      "metadata": {
        "id": "F4Grf3iyP4MH"
      }
    },
    {
      "cell_type": "code",
      "source": [
        "files = glob.glob(\"/content/drive/MyDrive/CV/Last/*\")\n",
        "x_test= []\n",
        "(winW, winH) = (256,256)\n",
        "for idx in range(len(files)) :\n",
        "  file = files[idx]\n",
        "  if(file.endswith('.tif') or file.__contains__('mask')):\n",
        "    continue\n",
        "  img =cv2.resize(cv2.imread(file),(winW, winH))\n",
        "  pattern_img = cv2.resize(cv2.imread(file[:-4]+\".tif\"),(winW, winH))\n",
        "  prediction = siamese.predict([img, pattern_img])[0][0]"
      ],
      "metadata": {
        "id": "l2ZfQP_ceGYK"
      },
      "execution_count": null,
      "outputs": []
    },
    {
      "cell_type": "code",
      "source": [
        "model = get_model((256,256), 1)\n",
        "model.compile(optimizer='adam', loss='binary_crossentropy', metrics=['accuracy'])\n",
        "\n"
      ],
      "metadata": {
        "id": "l6yVD_H3QtL5"
      },
      "execution_count": 46,
      "outputs": []
    },
    {
      "cell_type": "code",
      "source": [
        "history = model.fit(x_train[:, 0],y_train,batch_size=4,epochs=5, validation_data=(x_test[:, 0], y_test))\n"
      ],
      "metadata": {
        "id": "jmScWJq2TnpL"
      },
      "execution_count": null,
      "outputs": []
    },
    {
      "cell_type": "code",
      "source": [
        "history = model.fit(x_train[:, 0],y_train,batch_size=4,epochs=5, validation_data=(x_test[:, 0], y_test))\n"
      ],
      "metadata": {
        "id": "kqk7tMAsRF1Q"
      },
      "execution_count": null,
      "outputs": []
    },
    {
      "cell_type": "markdown",
      "source": [
        "#Testing Part"
      ],
      "metadata": {
        "id": "9vFeA09_cCiA"
      }
    },
    {
      "cell_type": "code",
      "source": [
        "def plt_metric(history, metric, title, has_valid=True):\n",
        "    \"\"\"Plots the given 'metric' from 'history'.\n",
        "\n",
        "    Arguments:\n",
        "        history: history attribute of History object returned from Model.fit.\n",
        "        metric: Metric to plot, a string value present as key in 'history'.\n",
        "        title: A string to be used as title of plot.\n",
        "        has_valid: Boolean, true if valid data was passed to Model.fit else false.\n",
        "\n",
        "    Returns:\n",
        "        None.\n",
        "    \"\"\"\n",
        "    plt.plot(history[metric])\n",
        "    if has_valid:\n",
        "        plt.plot(history[\"val_\" + metric])\n",
        "        plt.legend([\"train\", \"validation\"], loc=\"upper left\")\n",
        "    plt.title(title)\n",
        "    plt.ylabel(metric)\n",
        "    plt.xlabel(\"epoch\")\n",
        "    plt.show()\n",
        "\n",
        "\n",
        "# Plot the accuracy\n",
        "plt_metric(history=history.history, metric=\"accuracy\", title=\"Model accuracy\")\n",
        "\n",
        "# Plot the constrastive loss\n",
        "plt_metric(history=history.history, metric=\"loss\", title=\"Constrastive Loss\")"
      ],
      "metadata": {
        "id": "yRA7j2zMGnRl"
      },
      "execution_count": null,
      "outputs": []
    },
    {
      "cell_type": "code",
      "source": [
        "results = siamese.evaluate([x_test[:, 0], x_test[:, 1]], y_test)\n",
        "print(\"test loss, test acc:\", results)"
      ],
      "metadata": {
        "colab": {
          "base_uri": "https://localhost:8080/"
        },
        "id": "aAcrSkkCWBAV",
        "outputId": "efd49efe-4bdb-418e-8068-da92cf6bdafc"
      },
      "execution_count": 62,
      "outputs": [
        {
          "output_type": "stream",
          "name": "stdout",
          "text": [
            "2/2 [==============================] - 20s 10s/step - loss: 0.2303 - accuracy: 0.9984\n",
            "test loss, test acc: [0.23026850819587708, 0.9983985424041748]\n"
          ]
        }
      ]
    }
  ]
}